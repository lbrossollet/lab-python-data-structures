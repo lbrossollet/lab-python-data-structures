{
 "cells": [
  {
   "cell_type": "code",
   "execution_count": 112,
   "id": "3af2bf12-5e26-45a9-9c30-c271a04faf8c",
   "metadata": {
    "tags": []
   },
   "outputs": [
    {
     "name": "stdin",
     "output_type": "stream",
     "text": [
      "Enter a quantity of :t-shirt 6\n",
      "Enter a quantity of :mug 8\n",
      "Enter a quantity of :hat 9\n",
      "Enter a quantity of :book 10\n",
      "Enter a quantity of :keychain 11\n"
     ]
    },
    {
     "name": "stdout",
     "output_type": "stream",
     "text": [
      "{'t-shirt': 6, 'mug': 8, 'hat': 9, 'book': 10, 'keychain': 11}\n"
     ]
    },
    {
     "name": "stdin",
     "output_type": "stream",
     "text": [
      "enter a product from the list : ['t-shirt', 'mug', 'hat', 'book', 'keychain'] t-shirt\n",
      "enter a product from the list : ['t-shirt', 'mug', 'hat', 'book', 'keychain'] mug\n",
      "enter a product from the list : ['t-shirt', 'mug', 'hat', 'book', 'keychain'] hat\n"
     ]
    },
    {
     "name": "stdout",
     "output_type": "stream",
     "text": [
      "Customer ordered : {'hat', 't-shirt', 'mug'}\n",
      "There is 3 items in the basket\n",
      "hat 0.11 %\n",
      "t-shirt 0.16 %\n",
      "mug 0.12 %\n"
     ]
    }
   ],
   "source": [
    "#Q1\n",
    "products=[\"t-shirt\",\"mug\",\"hat\",\"book\",\"keychain\"] \n",
    "#Q\n",
    "inventory={}\n",
    "#Q3\n",
    "for i in products:\n",
    "    inventory[i]=int(input(\"Enter a quantity of :\"+i))\n",
    "    \n",
    "print(inventory)\n",
    "\n",
    "#Q4\n",
    "customer_orders=set()\n",
    "#Q5\n",
    "for i in range (0,3):\n",
    "    customer_orders.add(input(f\"enter a product from the list : {products}\"))\n",
    "\n",
    "#Q6\n",
    "print ( f\"Customer ordered : {customer_orders}\")\n",
    "\n",
    "#Q7 a.\n",
    "print(\"There is \"+ str(len(customer_orders)) + \" items in the basket\")\n",
    "\n",
    "#Q7 b.\n",
    "for i in customer_orders:\n",
    "    \n",
    "    order_ratio=( str(int(100*1/int(inventory[i]))/100) +\" %\" )\n",
    "    \n",
    "    print(i + \" \"+ str(order_ratio))\n"
   ]
  },
  {
   "cell_type": "code",
   "execution_count": 113,
   "id": "cf76f033-d87a-4a27-b7f3-ae75d6917206",
   "metadata": {
    "tags": []
   },
   "outputs": [
    {
     "name": "stdout",
     "output_type": "stream",
     "text": [
      "[6, 8, 9, 10, 11]\n",
      "3\n",
      "44\n",
      "(3, '0.06')\n"
     ]
    }
   ],
   "source": [
    "list_products=list()\n",
    "for i in products:\n",
    "        list_products.append(int(inventory[i]))\n",
    "print(list_products)\n",
    "print(len(customer_orders))\n",
    "print(sum(list_products))\n",
    "order_status=(len(customer_orders),str( int(100*len(customer_orders)/sum(list_products) )/100 ))\n",
    "print(order_status)"
   ]
  },
  {
   "cell_type": "code",
   "execution_count": 114,
   "id": "5b1e86d1-e3e2-4283-bf5c-587cc1386da8",
   "metadata": {
    "tags": []
   },
   "outputs": [
    {
     "name": "stdout",
     "output_type": "stream",
     "text": [
      "Order statistics:\n",
      "Total Products Ordered : 3\n",
      "Percentage of products ordered :6.0%\n"
     ]
    }
   ],
   "source": [
    "#Q8\n",
    "print(\"Order statistics:\")\n",
    "print(\"Total Products Ordered : \"+ str(len(customer_orders)))\n",
    "print(f\"Percentage of products ordered :\" +  str(100*float(order_status[1])) +\"%\")"
   ]
  },
  {
   "cell_type": "code",
   "execution_count": 124,
   "id": "b02d6591-a73a-4914-8e32-ddac3666be50",
   "metadata": {
    "tags": []
   },
   "outputs": [
    {
     "name": "stdout",
     "output_type": "stream",
     "text": [
      "t-shirt in stock is : -4\n",
      "mug in stock is : -2\n",
      "hat in stock is : -1\n",
      "book in stock is : 10\n",
      "keychain in stock is : 11\n"
     ]
    }
   ],
   "source": [
    "#Q9\n",
    "new_inventory=inventory\n",
    "for i in customer_orders:\n",
    "    new_inventory[i]-=1\n",
    "\n",
    "#Q10\n",
    "for i in new_inventory:\n",
    "    print(i +\" in stock is : \"+ str(new_inventory[i]))\n",
    "                                                "
   ]
  },
  {
   "cell_type": "code",
   "execution_count": null,
   "id": "265e1e08-9530-470d-8ff5-2c7fb86ae000",
   "metadata": {},
   "outputs": [],
   "source": []
  },
  {
   "cell_type": "code",
   "execution_count": null,
   "id": "6edd34fd-6bde-4ce0-b65f-6f81fda92a53",
   "metadata": {},
   "outputs": [],
   "source": []
  },
  {
   "cell_type": "code",
   "execution_count": null,
   "id": "658bf869-4522-458a-94cd-3bb10488d86e",
   "metadata": {},
   "outputs": [],
   "source": []
  },
  {
   "cell_type": "code",
   "execution_count": null,
   "id": "df29d992-4e3b-47e6-babf-6374105a1b99",
   "metadata": {},
   "outputs": [],
   "source": []
  },
  {
   "cell_type": "code",
   "execution_count": null,
   "id": "aa49b6bb-a80b-46b2-b024-a7c2cb005b70",
   "metadata": {},
   "outputs": [],
   "source": []
  }
 ],
 "metadata": {
  "kernelspec": {
   "display_name": "Python 3 (ipykernel)",
   "language": "python",
   "name": "python3"
  },
  "language_info": {
   "codemirror_mode": {
    "name": "ipython",
    "version": 3
   },
   "file_extension": ".py",
   "mimetype": "text/x-python",
   "name": "python",
   "nbconvert_exporter": "python",
   "pygments_lexer": "ipython3",
   "version": "3.11.5"
  }
 },
 "nbformat": 4,
 "nbformat_minor": 5
}
