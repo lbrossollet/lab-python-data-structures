{
 "cells": [
  {
   "cell_type": "markdown",
   "metadata": {
    "tags": []
   },
   "source": [
    "# Lab | Data Structures "
   ]
  },
  {
   "cell_type": "markdown",
   "metadata": {},
   "source": [
    "## Exercise: Managing Customer Orders\n",
    "\n",
    "As part of a business venture, you are starting an online store that sells various products. To ensure smooth operations, you need to develop a program that manages customer orders and inventory.\n",
    "\n",
    "Follow the steps below to complete the exercise:\n",
    "\n",
    "1. Define a list called `products` that contains the following items: \"t-shirt\", \"mug\", \"hat\", \"book\", \"keychain\".\n",
    "\n",
    "2. Create an empty dictionary called `inventory`.\n",
    "\n",
    "3. Ask the user to input the quantity of each product available in the inventory. Use the product names from the `products` list as keys in the `inventory` dictionary and assign the respective quantities as values.\n",
    "\n",
    "4. Create an empty set called `customer_orders`.\n",
    "\n",
    "5. Ask the user to input the name of three products that a customer wants to order (from those in the products list, meaning three products out of \"t-shirt\", \"mug\", \"hat\", \"book\" or \"keychain\". Add each product name to the `customer_orders` set.\n",
    "\n",
    "6. Print the products in the `customer_orders` set.\n",
    "\n",
    "7. Calculate the following order statistics:\n",
    "   - Total Products Ordered: The total number of products in the `customer_orders` set.\n",
    "   - Percentage of Products Ordered: The percentage of products ordered compared to the total available products.\n",
    "   \n",
    "   Store these statistics in a tuple called `order_status`.\n",
    "\n",
    "8. Print the order statistics using the following format:\n",
    "   ```\n",
    "   Order Statistics:\n",
    "   Total Products Ordered: <total_products_ordered>\n",
    "   Percentage of Products Ordered: <percentage_ordered>% \n",
    "   ```\n",
    "\n",
    "9. Update the inventory by subtracting 1 from the quantity of each product. Modify the `inventory` dictionary accordingly.\n",
    "\n",
    "10. Print the updated inventory, displaying the quantity of each product on separate lines.\n",
    "\n",
    "Solve the exercise by implementing the steps using the Python concepts of lists, dictionaries, sets, and basic input/output operations. "
   ]
  },
  {
   "cell_type": "code",
   "execution_count": null,
   "metadata": {},
   "outputs": [],
   "source": [
    "#Q1\n",
    "products=[\"t-shirt\",\"mug\",\"hat\",\"book\",\"keychain\"] \n",
    "#Q\n",
    "inventory={}\n",
    "#Q3\n",
    "for i in products:\n",
    "    inventory[i]=int(input(\"Enter a quantity of :\"+i))\n",
    "    \n",
    "print(inventory)\n",
    "\n",
    "#Q4\n",
    "customer_orders=set()\n",
    "#Q5\n",
    "for i in range (0,3):\n",
    "    customer_orders.add(input(f\"enter a product from the list : {products}\"))\n",
    "\n",
    "#Q6\n",
    "print ( f\"Customer ordered : {customer_orders}\")\n",
    "\n",
    "#Q7 a.\n",
    "print(\"There is \"+ str(len(customer_orders)) + \" items in the basket\")\n",
    "\n",
    "#Q7 b.\n",
    "for i in customer_orders:\n",
    "    \n",
    "    order_ratio=( str(int(100*1/int(inventory[i]))/100) +\" %\" )\n",
    "    \n",
    "    print(i + \" \"+ str(order_ratio))\n",
    "\n",
    "list_products=list()\n",
    "for i in products:\n",
    "        list_products.append(int(inventory[i]))\n",
    "print(list_products)\n",
    "print(len(customer_orders))\n",
    "print(sum(list_products))\n",
    "order_status=(len(customer_orders),str( int(100*len(customer_orders)/sum(list_products) )/100 ))\n",
    "print(order_status)\n",
    "#Q8\n",
    "print(\"Order statistics:\")\n",
    "print(\"Total Products Ordered : \"+ str(len(customer_orders)))\n",
    "print(f\"Percentage of products ordered :\" +  str(100*float(order_status[1])) +\"%\")\n",
    "#Q9\n",
    "new_inventory=inventory\n",
    "for i in customer_orders:\n",
    "    new_inventory[i]-=1\n",
    "\n",
    "#Q10\n",
    "for i in new_inventory:\n",
    "    print(i +\" in stock is : \"+ str(new_inventory[i]))\n",
    "                                                \n",
    "\n",
    "\n",
    "\n",
    "\n"
   ]
  }
 ],
 "metadata": {
  "kernelspec": {
   "display_name": "Python 3 (ipykernel)",
   "language": "python",
   "name": "python3"
  },
  "language_info": {
   "codemirror_mode": {
    "name": "ipython",
    "version": 3
   },
   "file_extension": ".py",
   "mimetype": "text/x-python",
   "name": "python",
   "nbconvert_exporter": "python",
   "pygments_lexer": "ipython3",
   "version": "3.9.6"
  }
 },
 "nbformat": 4,
 "nbformat_minor": 4
}
